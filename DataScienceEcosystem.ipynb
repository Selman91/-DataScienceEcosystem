{
  "metadata": {
    "kernelspec": {
      "name": "python",
      "display_name": "Python (Pyodide)",
      "language": "python"
    },
    "language_info": {
      "codemirror_mode": {
        "name": "python",
        "version": 3
      },
      "file_extension": ".py",
      "mimetype": "text/x-python",
      "name": "python",
      "nbconvert_exporter": "python",
      "pygments_lexer": "ipython3",
      "version": "3.8"
    }
  },
  "nbformat_minor": 5,
  "nbformat": 4,
  "cells": [
    {
      "id": "68930d92-b947-4bf4-bd30-5bc604f7705b",
      "cell_type": "markdown",
      "source": "# Data science tools and ecosystem",
      "metadata": {}
    },
    {
      "id": "73bdd543-6a88-4a47-8005-c593be7f1ba5",
      "cell_type": "markdown",
      "source": "# In this notebook, Data science tools end ecosystem are summarized ",
      "metadata": {}
    },
    {
      "id": "527605cb-2a9e-4d07-95a2-57aeade6a3ec",
      "cell_type": "markdown",
      "source": "## Objectives\n1. R\n2. SQL\n3. Python\n4. Java\n   ",
      "metadata": {}
    },
    {
      "id": "e83ef144-250b-4526-aa3c-73c2184d56ab",
      "cell_type": "markdown",
      "source": "# Some of the popular languages that Data scientists are using",
      "metadata": {}
    },
    {
      "id": "f5b2255f-f548-47b5-98f6-60912d0c37f9",
      "cell_type": "markdown",
      "source": "1. Python\n2. R\n3. Java",
      "metadata": {}
    },
    {
      "id": "e1cff053-d10b-4acf-a466-0cf25b99da85",
      "cell_type": "markdown",
      "source": "# Some of the commonly used libraries used by Sata Scientists inlude:",
      "metadata": {}
    },
    {
      "id": "430164a3-1296-431a-b316-fe74254b03b0",
      "cell_type": "markdown",
      "source": "1. NumPy\n2. Pandas\n3. SciPy",
      "metadata": {}
    },
    {
      "id": "5e107c68-78e2-444e-a143-f59c1c1b1981",
      "cell_type": "markdown",
      "source": "# Data Science tools",
      "metadata": {}
    },
    {
      "id": "8aced29e-fa3c-4d11-bc2e-406ee5a88d40",
      "cell_type": "markdown",
      "source": "| Data Science tools |\n|--------------------|\n| Jupyter Notebook   |\n| RStudio            |\n| Apache Zeppelin    |",
      "metadata": {}
    },
    {
      "id": "e0a146ee-5fbc-41f2-a6f3-232b70fe1c49",
      "cell_type": "markdown",
      "source": "### Examples of arithmetic expressions",
      "metadata": {}
    },
    {
      "id": "c265f651-5e23-4b74-b926-e7d7c44f4aa0",
      "cell_type": "markdown",
      "source": "# This is a simple arithmetic expression to multiply then add integers",
      "metadata": {}
    },
    {
      "id": "4064ec7e-a48d-44fd-89c6-8eccc1d8f2df",
      "cell_type": "code",
      "source": "(3*4)+5",
      "metadata": {
        "trusted": true
      },
      "outputs": [
        {
          "execution_count": 5,
          "output_type": "execute_result",
          "data": {
            "text/plain": "17"
          },
          "metadata": {}
        }
      ],
      "execution_count": 5
    },
    {
      "id": "8f4bbc48-9f85-4d3b-ae4a-0a90dbf224c1",
      "cell_type": "markdown",
      "source": "# This will convert 200 minutes to hours by dividing by 60",
      "metadata": {}
    },
    {
      "id": "8b846b01-a8ba-4aa6-ae0c-44a4133d41aa",
      "cell_type": "code",
      "source": "# convert minutes to hours\n# define the number of minutes \nminutes = 200\n# convert minutes to hour by dividing by 60 \nhours = minutes / 60\nprint(f\"{200} minutes are equal to {hours:.2f} hours\")",
      "metadata": {
        "trusted": true
      },
      "outputs": [
        {
          "name": "stdout",
          "output_type": "stream",
          "text": "200 minutes are equal to 3.33 hours\n"
        }
      ],
      "execution_count": 3
    },
    {
      "id": "a22ec0d9-3d89-4eb0-afd9-1c3c1a39178a",
      "cell_type": "markdown",
      "source": "## Author \nSelman",
      "metadata": {}
    },
    {
      "id": "582a4b12-d086-48fa-ba55-29b70dae084d",
      "cell_type": "code",
      "source": "",
      "metadata": {
        "trusted": true
      },
      "outputs": [],
      "execution_count": null
    }
  ]
}